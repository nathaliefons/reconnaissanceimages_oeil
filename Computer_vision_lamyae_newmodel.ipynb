{
  "nbformat": 4,
  "nbformat_minor": 0,
  "metadata": {
    "kernelspec": {
      "display_name": "Python 3",
      "language": "python",
      "name": "python3"
    },
    "language_info": {
      "codemirror_mode": {
        "name": "ipython",
        "version": 3
      },
      "file_extension": ".py",
      "mimetype": "text/x-python",
      "name": "python",
      "nbconvert_exporter": "python",
      "pygments_lexer": "ipython3",
      "version": "3.6.12"
    },
    "colab": {
      "name": "Computer_vision_lamyae_newmodel.ipynb",
      "provenance": [],
      "collapsed_sections": [],
      "toc_visible": true,
      "machine_shape": "hm"
    },
    "accelerator": "GPU"
  },
  "cells": [
    {
      "cell_type": "code",
      "metadata": {
        "id": "LRb1-vm6zAZw"
      },
      "source": [
        "# This Python 3 environment comes with many helpful analytics libraries installed\n",
        "# Iat is defined by the kaggle/python Docker image: https://github.com/kaggle/docker-python\n",
        "# For example, here's several helpful packages to load\n",
        "\n",
        "import numpy as np # linear algebra\n",
        "import pandas as pd # data processing, CSV file I/O (e.g. pd.read_csv)\n",
        "import cv2\n",
        "import random\n",
        "from tqdm import tqdm\n",
        "import matplotlib.pyplot as plt\n",
        "import seaborn as sns\n",
        "import torch\n",
        "from torchvision import datasets, transforms\n",
        "from PIL import Image\n",
        "import os"
      ],
      "execution_count": null,
      "outputs": []
    },
    {
      "cell_type": "code",
      "metadata": {
        "colab": {
          "base_uri": "https://localhost:8080/"
        },
        "id": "gypjytwtzAZ4",
        "outputId": "232c5fa3-70d4-4e80-f5bb-a85268e623ce"
      },
      "source": [
        "import sys\n",
        "print('__Python VERSION:', sys.version)\n",
        "print('__pyTorch VERSION:', torch.__version__)\n",
        "print('__CUDA VERSION')\n",
        "from subprocess import call\n",
        "# call([\"nvcc\", \"--version\"]) does not work\n",
        "\n",
        "print('__CUDNN VERSION:', torch.backends.cudnn.version())\n",
        "print('__Number CUDA Devices:', torch.cuda.device_count())\n",
        "print('__Devices')\n",
        "# call([\"nvidia-smi\", \"--format=csv\", \"--query-gpu=index,name,driver_version,memory.total,memory.used,memory.free\"])\n",
        "\n",
        "\n",
        "print ('Available devices ', torch.cuda.device_count())\n",
        "\n"
      ],
      "execution_count": null,
      "outputs": [
        {
          "output_type": "stream",
          "text": [
            "__Python VERSION: 3.7.10 (default, May  3 2021, 02:48:31) \n",
            "[GCC 7.5.0]\n",
            "__pyTorch VERSION: 1.8.1+cu101\n",
            "__CUDA VERSION\n",
            "__CUDNN VERSION: 7603\n",
            "__Number CUDA Devices: 1\n",
            "__Devices\n",
            "Available devices  1\n"
          ],
          "name": "stdout"
        }
      ]
    },
    {
      "cell_type": "code",
      "metadata": {
        "colab": {
          "base_uri": "https://localhost:8080/"
        },
        "id": "twLrZPgb5v9j",
        "outputId": "81185c8d-a863-48bd-f984-eb64f308324c"
      },
      "source": [
        "from google.colab import drive\n",
        "drive.mount('/content/drive')"
      ],
      "execution_count": null,
      "outputs": [
        {
          "output_type": "stream",
          "text": [
            "Mounted at /content/drive\n"
          ],
          "name": "stdout"
        }
      ]
    },
    {
      "cell_type": "code",
      "metadata": {
        "id": "FZauoYYRzAZ7"
      },
      "source": [
        "from torch.utils.data import Dataset, DataLoader\n",
        "from torchvision import transforms, utils"
      ],
      "execution_count": null,
      "outputs": []
    },
    {
      "cell_type": "code",
      "metadata": {
        "id": "UFfWk4w3zAZ8"
      },
      "source": [
        "import torch\n",
        "from torch import nn\n",
        "from torch import optim\n",
        "import torch.nn.functional as F\n",
        "from torchvision import datasets, transforms, models\n",
        "import torch.optim as optim\n",
        "import torch.nn as nn\n",
        "from torch.optim import lr_scheduler\n",
        "from torch.optim import SGD"
      ],
      "execution_count": null,
      "outputs": []
    },
    {
      "cell_type": "code",
      "metadata": {
        "id": "oPFPJvtxznFB"
      },
      "source": [
        "!pip install -U -q PyDrive\n",
        "from pydrive.auth import GoogleAuth\n",
        "from pydrive.drive import GoogleDrive\n",
        "from google.colab import auth\n",
        "from oauth2client.client import GoogleCredentials\n",
        "# Authenticate and create the PyDrive client.\n",
        "auth.authenticate_user()\n",
        "gauth = GoogleAuth()\n",
        "gauth.credentials = GoogleCredentials.get_application_default()\n",
        "driveFiles = GoogleDrive(gauth)"
      ],
      "execution_count": null,
      "outputs": []
    },
    {
      "cell_type": "code",
      "metadata": {
        "id": "1qe85vYv65Jq"
      },
      "source": [
        "from pathlib import Path\n",
        "base = Path('/content/drive/MyDrive/computer-vision/')\n",
        "sys.path.append(str(base))\n",
        "zippath= base/'Data_train.zip'\n",
        "!cp \"{zippath}\" .\n",
        "!unzip -q Data_train.zip\n",
        "!rm Data_train.zip"
      ],
      "execution_count": null,
      "outputs": []
    },
    {
      "cell_type": "code",
      "metadata": {
        "id": "yq-oP0nX8GHB"
      },
      "source": [
        "zippath= base/'Data_test.zip'\n",
        "!cp \"{zippath}\" .\n",
        "!unzip -q Data_test.zip\n",
        "!rm Data_test.zip\n",
        "\n"
      ],
      "execution_count": null,
      "outputs": []
    },
    {
      "cell_type": "code",
      "metadata": {
        "id": "E71kV6PG7TGv"
      },
      "source": [
        "zippath= base/'Data_valid.zip'\n",
        "!cp \"{zippath}\" .\n",
        "!unzip -q Data_valid.zip\n",
        "!rm Data_valid.zip\n"
      ],
      "execution_count": null,
      "outputs": []
    },
    {
      "cell_type": "code",
      "metadata": {
        "id": "PafdRLEszAZ9"
      },
      "source": [
        "data_transforms_train = transforms.Compose([transforms.ToTensor(),transforms.Normalize([0.485, 0.456, 0.406], [0.229, 0.224, 0.225])])\n",
        "data_transforms_valid = transforms.Compose([transforms.ToTensor(),transforms.Normalize([0.485, 0.456, 0.406], [0.229, 0.224, 0.225])])\n",
        "data_transforms_test = transforms.Compose([transforms.ToTensor(),transforms.Normalize([0.485, 0.456, 0.406], [0.229, 0.224, 0.225])])"
      ],
      "execution_count": null,
      "outputs": []
    },
    {
      "cell_type": "code",
      "metadata": {
        "id": "OiH36KXDzAZ-"
      },
      "source": [
        "#Load the datasets with ImageFolder\n",
        "datadir='/content/'\n",
        "train_dir=datadir + 'Data_train'\n",
        "valid_dir=datadir + 'Data_valid'\n",
        "test_dir=datadir + 'Data_test'\n",
        "image_dataset_train = datasets.ImageFolder(train_dir, transform = data_transforms_train)\n",
        "image_dataset_valid = datasets.ImageFolder(valid_dir, transform = data_transforms_valid)\n",
        "image_dataset_test = datasets.ImageFolder(test_dir, transform = data_transforms_test)"
      ],
      "execution_count": null,
      "outputs": []
    },
    {
      "cell_type": "code",
      "metadata": {
        "id": "V0gO_noZzAZ-"
      },
      "source": [
        "# Using the image datasets and the trainforms, define the dataloaders\n",
        "#batch size and num workers can be modified accordingly. \n",
        "batch_size =64\n",
        "num_workers=2\n",
        " \n",
        "\n",
        "dataloader_train = torch.utils.data.DataLoader(image_dataset_train, batch_size=batch_size,\n",
        "                                               num_workers=num_workers, shuffle=True)\n",
        "dataloader_valid = torch.utils.data.DataLoader(image_dataset_valid, batch_size=batch_size,\n",
        "                                               num_workers=num_workers, shuffle=True)\n",
        "\n",
        "dataloader_test = torch.utils.data.DataLoader(image_dataset_test, batch_size=batch_size,\n",
        "                                               num_workers=num_workers, shuffle=True)"
      ],
      "execution_count": null,
      "outputs": []
    },
    {
      "cell_type": "code",
      "metadata": {
        "id": "nCi29k3mzAZ_"
      },
      "source": [
        "#Define classnames\n",
        "class_names = image_dataset_train.classes"
      ],
      "execution_count": null,
      "outputs": []
    },
    {
      "cell_type": "code",
      "metadata": {
        "colab": {
          "base_uri": "https://localhost:8080/"
        },
        "id": "xD7uUcA2zAZ_",
        "outputId": "af12415e-5692-4d78-a736-553f6b15c538"
      },
      "source": [
        "class_names"
      ],
      "execution_count": null,
      "outputs": [
        {
          "output_type": "execute_result",
          "data": {
            "text/plain": [
              "['a', 'c', 'd', 'g', 'h', 'm', 'n', 'o']"
            ]
          },
          "metadata": {
            "tags": []
          },
          "execution_count": 14
        }
      ]
    },
    {
      "cell_type": "code",
      "metadata": {
        "id": "1I-B3VHuzAaA"
      },
      "source": [
        "starts=class_names\n",
        "label=[1,2,3,4,5,6,7,8]\n",
        "dict_=dict(zip(starts,label))"
      ],
      "execution_count": null,
      "outputs": []
    },
    {
      "cell_type": "code",
      "metadata": {
        "id": "z1kdB3rs9ZKE"
      },
      "source": [
        "#Train on multiple GPUs if available, else train on cpu\n",
        "device = torch.device('cuda' if torch.cuda.is_available() else \"cpu\")"
      ],
      "execution_count": null,
      "outputs": []
    },
    {
      "cell_type": "code",
      "metadata": {
        "colab": {
          "base_uri": "https://localhost:8080/"
        },
        "id": "XpXa_oepzAaF",
        "outputId": "7f3907f3-0cd5-425e-f1e7-fff4fa12188b"
      },
      "source": [
        "device"
      ],
      "execution_count": null,
      "outputs": [
        {
          "output_type": "execute_result",
          "data": {
            "text/plain": [
              "device(type='cuda')"
            ]
          },
          "metadata": {
            "tags": []
          },
          "execution_count": 17
        }
      ]
    },
    {
      "cell_type": "code",
      "metadata": {
        "colab": {
          "base_uri": "https://localhost:8080/"
        },
        "id": "umtMuuYwT0nX",
        "outputId": "49640c5f-74ca-41c9-b19a-21ad551acbe7"
      },
      "source": [
        "!nvidia-smi"
      ],
      "execution_count": null,
      "outputs": [
        {
          "output_type": "stream",
          "text": [
            "Mon May 24 15:36:54 2021       \n",
            "+-----------------------------------------------------------------------------+\n",
            "| NVIDIA-SMI 465.19.01    Driver Version: 460.32.03    CUDA Version: 11.2     |\n",
            "|-------------------------------+----------------------+----------------------+\n",
            "| GPU  Name        Persistence-M| Bus-Id        Disp.A | Volatile Uncorr. ECC |\n",
            "| Fan  Temp  Perf  Pwr:Usage/Cap|         Memory-Usage | GPU-Util  Compute M. |\n",
            "|                               |                      |               MIG M. |\n",
            "|===============================+======================+======================|\n",
            "|   0  Tesla P100-PCIE...  Off  | 00000000:00:04.0 Off |                    0 |\n",
            "| N/A   39C    P0    27W / 250W |      2MiB / 16280MiB |      0%      Default |\n",
            "|                               |                      |                  N/A |\n",
            "+-------------------------------+----------------------+----------------------+\n",
            "                                                                               \n",
            "+-----------------------------------------------------------------------------+\n",
            "| Processes:                                                                  |\n",
            "|  GPU   GI   CI        PID   Type   Process name                  GPU Memory |\n",
            "|        ID   ID                                                   Usage      |\n",
            "|=============================================================================|\n",
            "|  No running processes found                                                 |\n",
            "+-----------------------------------------------------------------------------+\n"
          ],
          "name": "stdout"
        }
      ]
    },
    {
      "cell_type": "code",
      "metadata": {
        "id": "ZiIPfLefzAaJ"
      },
      "source": [
        "class Optimizer():\n",
        "    # is used to get rid of code inside the training loop\n",
        "    def __init__(self, parameters, lr=0.4):\n",
        "        self.parameters, self.lr = list(parameters), lr\n",
        "\n",
        "    def step(self):\n",
        "        with torch.no_grad():\n",
        "            for p in self.parameters:\n",
        "                p -= p.grad * self.lr\n",
        "\n",
        "    def zero_grad(self):\n",
        "        for p in self.parameters:\n",
        "            p.grad.zero_()"
      ],
      "execution_count": null,
      "outputs": []
    },
    {
      "cell_type": "code",
      "metadata": {
        "id": "5QO9tWvDzAaJ"
      },
      "source": [
        "class Lambda(nn.Module):\n",
        "    def __init__(self, func):\n",
        "        super().__init__()\n",
        "        self.func = func\n",
        "\n",
        "    def forward(self, x):\n",
        "        return self.func(x)\n",
        "\n",
        "\n",
        "def flatten(x):\n",
        "    return x.view(x.shape[0], -1)\n",
        "\n",
        "# we can also use that Lambda class to resize the data as in the above cell\n",
        "def resize(x): return x.view(-1, 3, 224, 224) "
      ],
      "execution_count": null,
      "outputs": []
    },
    {
      "cell_type": "code",
      "metadata": {
        "id": "duAcv-4gzAaJ"
      },
      "source": [
        "\n",
        "EPOCHS = 6\n",
        "lr = 0.4\n",
        "\n",
        "loss_func = F.cross_entropy\n",
        "class cnn_lamyae(nn.Module):\n",
        "  def __init__(self, output_dim):\n",
        "        super().__init__()\n",
        "\n",
        "        self.features = nn.Sequential(\n",
        "                Lambda(resize),\n",
        "                nn.Conv2d(in_channels=3, out_channels=64,\n",
        "                    kernel_size=3, stride=1, padding=1),  # bs*64*224*224\n",
        "                nn.ReLU(),\n",
        "                #nn.Conv2d(in_channels=64, out_channels=64,\n",
        "                #kernel_size=3, stride=1, padding=1),  # bs*64*224*224\n",
        "                #nn.ReLU(),\n",
        "                nn.MaxPool2d((2,2),stride=(2,2)),  #bs*64*112*112\n",
        "                nn.Conv2d(64, 128, 3, 1, 1),  # bs*128*112*112\n",
        "                nn.ReLU(),\n",
        "                #nn.Conv2d(128, 128, 3, 1, 1),  # bs*128*112*112\n",
        "                #nn.ReLU(),\n",
        "                nn.MaxPool2d((2,2),stride=(2,2)),  #bs*128*56*56,\n",
        "                nn.Conv2d(128, 256, 3, 1, 1),  # bs * 256 * 56 * 56\n",
        "                nn.ReLU(),\n",
        "                #nn.Conv2d(256, 256, 3, 1, 1),  # bs * 256 * 56 * 56\n",
        "                #nn.ReLU(),\n",
        "                nn.MaxPool2d((2,2),stride=(2,2)),  #bs*256*28*28,\n",
        "                nn.Conv2d(256, 512, 3, 1, 1),  # bs * 512 * 28 * 28\n",
        "                nn.ReLU(),\n",
        "                #nn.Conv2d(512, 512, 3, 1, 1),  # bs * 512 * 28 * 28\n",
        "                #nn.ReLU(),\n",
        "                #nn.Conv2d(512, 512, 3, 1, 1),  # bs * 512 * 28 * 28\n",
        "                #nn.ReLU(),\n",
        "                nn.MaxPool2d((2,2),stride=(2,2)),  #bs*512*14*14,\n",
        "                nn.Conv2d(512, 512, 3, 1, 1),  # bs * 512 * 14 * 14\n",
        "                nn.ReLU(),\n",
        "                #nn.Conv2d(512, 512, 3, 1, 1),  # bs * 512 * 28 * 28\n",
        "                #nn.ReLU(),\n",
        "                #nn.Conv2d(512, 512, 3, 1, 1),  # bs * 512 * 28 * 28\n",
        "                #nn.ReLU(),\n",
        "                nn.MaxPool2d((2,2),stride=(2,2)))  #bs*512*7*7,\n",
        "\n",
        "        self.classifier = nn.Sequential(\n",
        "            nn.Dropout(0.4),\n",
        "            nn.Linear(512*7*7, 4096),\n",
        "            nn.ReLU(),\n",
        "            nn.Dropout(0.4),\n",
        "            nn.Linear(4096, 4096),\n",
        "            nn.ReLU(),\n",
        "            nn.Dropout(0.4),\n",
        "            nn.Linear(4096, 8))\n",
        "  def forward(self, x):\n",
        "     x = self.features(x)\n",
        "     h = x.view(x.shape[0], -1)\n",
        "     x = self.classifier(h)\n",
        "     return x, h\n",
        "\n"
      ],
      "execution_count": null,
      "outputs": []
    },
    {
      "cell_type": "code",
      "metadata": {
        "id": "TB4UmxQ2FiOu"
      },
      "source": [
        "OUTPUT_DIM = 8\n",
        "\n",
        "model = cnn_lamyae(OUTPUT_DIM)"
      ],
      "execution_count": null,
      "outputs": []
    },
    {
      "cell_type": "code",
      "metadata": {
        "id": "3i-3xnI2F9vL"
      },
      "source": [
        "def initialize_parameters(m):\n",
        "    if isinstance(m, nn.Conv2d):\n",
        "        nn.init.kaiming_normal_(m.weight.data, nonlinearity = 'relu')\n",
        "        nn.init.constant_(m.bias.data, 0)\n",
        "    elif isinstance(m, nn.Linear):\n",
        "        nn.init.xavier_normal_(m.weight.data, gain = nn.init.calculate_gain('relu'))\n",
        "        nn.init.constant_(m.bias.data, 0)"
      ],
      "execution_count": null,
      "outputs": []
    },
    {
      "cell_type": "code",
      "metadata": {
        "colab": {
          "base_uri": "https://localhost:8080/"
        },
        "id": "PQQyhpd-GENF",
        "outputId": "b6e3e38f-d310-4a2d-ef5b-fd9b1edd68d4"
      },
      "source": [
        "model.apply(initialize_parameters)"
      ],
      "execution_count": null,
      "outputs": [
        {
          "output_type": "execute_result",
          "data": {
            "text/plain": [
              "cnn_lamyae(\n",
              "  (features): Sequential(\n",
              "    (0): Lambda()\n",
              "    (1): Conv2d(3, 64, kernel_size=(3, 3), stride=(1, 1), padding=(1, 1))\n",
              "    (2): ReLU()\n",
              "    (3): Conv2d(64, 64, kernel_size=(3, 3), stride=(1, 1), padding=(1, 1))\n",
              "    (4): ReLU()\n",
              "    (5): MaxPool2d(kernel_size=(2, 2), stride=(2, 2), padding=0, dilation=1, ceil_mode=False)\n",
              "    (6): Conv2d(64, 128, kernel_size=(3, 3), stride=(1, 1), padding=(1, 1))\n",
              "    (7): ReLU()\n",
              "    (8): Conv2d(128, 128, kernel_size=(3, 3), stride=(1, 1), padding=(1, 1))\n",
              "    (9): ReLU()\n",
              "    (10): MaxPool2d(kernel_size=(2, 2), stride=(2, 2), padding=0, dilation=1, ceil_mode=False)\n",
              "    (11): Conv2d(128, 256, kernel_size=(3, 3), stride=(1, 1), padding=(1, 1))\n",
              "    (12): ReLU()\n",
              "    (13): Conv2d(256, 256, kernel_size=(3, 3), stride=(1, 1), padding=(1, 1))\n",
              "    (14): ReLU()\n",
              "    (15): MaxPool2d(kernel_size=(2, 2), stride=(2, 2), padding=0, dilation=1, ceil_mode=False)\n",
              "    (16): Conv2d(256, 512, kernel_size=(3, 3), stride=(1, 1), padding=(1, 1))\n",
              "    (17): ReLU()\n",
              "    (18): Conv2d(512, 512, kernel_size=(3, 3), stride=(1, 1), padding=(1, 1))\n",
              "    (19): ReLU()\n",
              "    (20): Conv2d(512, 512, kernel_size=(3, 3), stride=(1, 1), padding=(1, 1))\n",
              "    (21): ReLU()\n",
              "    (22): MaxPool2d(kernel_size=(2, 2), stride=(2, 2), padding=0, dilation=1, ceil_mode=False)\n",
              "    (23): Conv2d(512, 512, kernel_size=(3, 3), stride=(1, 1), padding=(1, 1))\n",
              "    (24): ReLU()\n",
              "    (25): Conv2d(512, 512, kernel_size=(3, 3), stride=(1, 1), padding=(1, 1))\n",
              "    (26): ReLU()\n",
              "    (27): Conv2d(512, 512, kernel_size=(3, 3), stride=(1, 1), padding=(1, 1))\n",
              "    (28): ReLU()\n",
              "    (29): MaxPool2d(kernel_size=(2, 2), stride=(2, 2), padding=0, dilation=1, ceil_mode=False)\n",
              "  )\n",
              "  (classifier): Sequential(\n",
              "    (0): Dropout(p=0.4, inplace=False)\n",
              "    (1): Linear(in_features=25088, out_features=4096, bias=True)\n",
              "    (2): ReLU()\n",
              "    (3): Dropout(p=0.4, inplace=False)\n",
              "    (4): Linear(in_features=4096, out_features=4096, bias=True)\n",
              "    (5): ReLU()\n",
              "    (6): Dropout(p=0.4, inplace=False)\n",
              "    (7): Linear(in_features=4096, out_features=8, bias=True)\n",
              "  )\n",
              ")"
            ]
          },
          "metadata": {
            "tags": []
          },
          "execution_count": 38
        }
      ]
    },
    {
      "cell_type": "code",
      "metadata": {
        "id": "z3y5Z9vsGKVE"
      },
      "source": [
        "from torch.optim.lr_scheduler import _LRScheduler\n",
        "class LRFinder:\n",
        "    def __init__(self, model, optimizer, criterion, device):\n",
        "        \n",
        "        self.optimizer = optimizer\n",
        "        self.model = model\n",
        "        self.criterion = criterion\n",
        "        self.device = device\n",
        "        \n",
        "        torch.save(model.state_dict(), '/content/drive/MyDrive/computer-vision/init_params.pt')\n",
        "\n",
        "    def range_test(self, iterator, end_lr = 10, num_iter = 100, \n",
        "                   smooth_f = 0.05, diverge_th = 5):\n",
        "        \n",
        "        lrs = []\n",
        "        losses = []\n",
        "        best_loss = float('inf')\n",
        "\n",
        "        lr_scheduler = ExponentialLR(self.optimizer, end_lr, num_iter)\n",
        "        \n",
        "        iterator = IteratorWrapper(iterator)\n",
        "        \n",
        "        for iteration in range(num_iter):\n",
        "\n",
        "            loss = self._train_batch(iterator)\n",
        "\n",
        "            lrs.append(lr_scheduler.get_last_lr()[0])\n",
        "\n",
        "            #update lr\n",
        "            lr_scheduler.step()\n",
        "            \n",
        "            if iteration > 0:\n",
        "                loss = smooth_f * loss + (1 - smooth_f) * losses[-1]\n",
        "                \n",
        "            if loss < best_loss:\n",
        "                best_loss = loss\n",
        "\n",
        "            losses.append(loss)\n",
        "            \n",
        "            if loss > diverge_th * best_loss:\n",
        "                print(\"Stopping early, the loss has diverged\")\n",
        "                break\n",
        "                       \n",
        "        #reset model to initial parameters\n",
        "        model.load_state_dict(torch.load('/content/drive/MyDrive/computer-vision/init_params.pt'))\n",
        "\n",
        "                    \n",
        "        return lrs, losses\n",
        "\n",
        "    def _train_batch(self, iterator):\n",
        "        \n",
        "        self.model.train()\n",
        "        \n",
        "        self.optimizer.zero_grad()\n",
        "        \n",
        "        x, y = iterator.get_batch()\n",
        "        \n",
        "        x = x.to(self.device)\n",
        "        y = y.to(self.device)\n",
        "        \n",
        "        y_pred, _ = self.model(x)\n",
        "                \n",
        "        loss = self.criterion(y_pred, y)\n",
        "        \n",
        "        loss.backward()\n",
        "        \n",
        "        self.optimizer.step()\n",
        "        \n",
        "        return loss.item()\n",
        "\n",
        "class ExponentialLR(_LRScheduler):\n",
        "    def __init__(self, optimizer, end_lr, num_iter, last_epoch=-1):\n",
        "        self.end_lr = end_lr\n",
        "        self.num_iter = num_iter\n",
        "        super(ExponentialLR, self).__init__(optimizer, last_epoch)\n",
        "\n",
        "    def get_lr(self):\n",
        "        curr_iter = self.last_epoch\n",
        "        r = curr_iter / self.num_iter\n",
        "        return [base_lr * (self.end_lr / base_lr) ** r for base_lr in self.base_lrs]\n",
        "\n",
        "class IteratorWrapper:\n",
        "    def __init__(self, iterator):\n",
        "        self.iterator = iterator\n",
        "        self._iterator = iter(iterator)\n",
        "\n",
        "    def __next__(self):\n",
        "        try:\n",
        "            inputs, labels = next(self._iterator)\n",
        "        except StopIteration:\n",
        "            self._iterator = iter(self.iterator)\n",
        "            inputs, labels, *_ = next(self._iterator)\n",
        "\n",
        "        return inputs, labels\n",
        "\n",
        "    def get_batch(self):\n",
        "        return next(self)"
      ],
      "execution_count": null,
      "outputs": []
    },
    {
      "cell_type": "code",
      "metadata": {
        "id": "rqMapsXPHCdT"
      },
      "source": [
        "START_LR = 1e-7\n",
        "\n",
        "optimizer = optim.Adam(model.parameters(), lr = START_LR)\n",
        "\n",
        "device = torch.device('cuda' if torch.cuda.is_available() else 'cpu')\n",
        "\n",
        "criterion = nn.CrossEntropyLoss()\n",
        "\n",
        "model = model.to(device)\n",
        "criterion = criterion.to(device)"
      ],
      "execution_count": null,
      "outputs": []
    },
    {
      "cell_type": "code",
      "metadata": {
        "colab": {
          "base_uri": "https://localhost:8080/"
        },
        "id": "q1g1fbICHVtB",
        "outputId": "2d2336e4-4c16-4c4b-82ba-03df6431786e"
      },
      "source": [
        "END_LR = 10\n",
        "NUM_ITER = 100\n",
        "\n",
        "lr_finder = LRFinder(model, optimizer, criterion, device)\n",
        "lrs, losses = lr_finder.range_test(dataloader_train, END_LR, NUM_ITER)"
      ],
      "execution_count": null,
      "outputs": [
        {
          "output_type": "stream",
          "text": [
            "Stopping early, the loss has diverged\n"
          ],
          "name": "stdout"
        }
      ]
    },
    {
      "cell_type": "code",
      "metadata": {
        "id": "O3RjHhG2HqQ6"
      },
      "source": [
        "def plot_lr_finder(lrs, losses, skip_start = 5, skip_end = 2):\n",
        "    \n",
        "    if skip_end == 0:\n",
        "        lrs = lrs[skip_start:]\n",
        "        losses = losses[skip_start:]\n",
        "    else:\n",
        "        lrs = lrs[skip_start:-skip_end]\n",
        "        losses = losses[skip_start:-skip_end]\n",
        "    \n",
        "    fig = plt.figure(figsize = (16,8))\n",
        "    ax = fig.add_subplot(1,1,1)\n",
        "    ax.plot(lrs, losses)\n",
        "    ax.set_xscale('log')\n",
        "    ax.set_xlabel('Learning rate')\n",
        "    ax.set_ylabel('Loss')\n",
        "    ax.grid(True, 'both', 'x')\n",
        "    plt.show()"
      ],
      "execution_count": null,
      "outputs": []
    },
    {
      "cell_type": "code",
      "metadata": {
        "colab": {
          "base_uri": "https://localhost:8080/",
          "height": 501
        },
        "id": "xrVKs5KJHsL_",
        "outputId": "f634eeb4-e368-4b7e-d31a-8184780f7a78"
      },
      "source": [
        "plot_lr_finder(lrs, losses)"
      ],
      "execution_count": null,
      "outputs": [
        {
          "output_type": "display_data",
          "data": {
            "image/png": "[encoded data removed]",
            "text/plain": [
              "<Figure size 1152x576 with 1 Axes>"
            ]
          },
          "metadata": {
            "tags": [],
            "needs_background": "light"
          }
        }
      ]
    },
    {
      "cell_type": "code",
      "metadata": {
        "id": "sY5C_25HIQkn"
      },
      "source": [
        "FOUND_LR = 1e-3\n",
        "\n",
        "optimizer = optim.Adam(model.parameters(), lr = FOUND_LR)"
      ],
      "execution_count": null,
      "outputs": []
    },
    {
      "cell_type": "code",
      "metadata": {
        "id": "glDmVWDTBgJu"
      },
      "source": [
        "from torchsummary import summary"
      ],
      "execution_count": null,
      "outputs": []
    },
    {
      "cell_type": "code",
      "metadata": {
        "colab": {
          "base_uri": "https://localhost:8080/"
        },
        "id": "XAf2W6O8B17j",
        "outputId": "ff034fed-5fc7-4a51-9613-b608c73090f2"
      },
      "source": [
        "summary(learner, (3,224,224))"
      ],
      "execution_count": null,
      "outputs": [
        {
          "output_type": "stream",
          "text": [
            "----------------------------------------------------------------\n",
            "        Layer (type)               Output Shape         Param #\n",
            "================================================================\n",
            "            Lambda-1          [-1, 3, 224, 224]               0\n",
            "            Conv2d-2         [-1, 64, 224, 224]           1,792\n",
            "              ReLU-3         [-1, 64, 224, 224]               0\n",
            "            Conv2d-4         [-1, 64, 224, 224]          36,928\n",
            "              ReLU-5         [-1, 64, 224, 224]               0\n",
            "         MaxPool2d-6         [-1, 64, 112, 112]               0\n",
            "            Conv2d-7        [-1, 128, 112, 112]          73,856\n",
            "              ReLU-8        [-1, 128, 112, 112]               0\n",
            "            Conv2d-9        [-1, 128, 112, 112]         147,584\n",
            "             ReLU-10        [-1, 128, 112, 112]               0\n",
            "        MaxPool2d-11          [-1, 128, 56, 56]               0\n",
            "           Conv2d-12          [-1, 256, 56, 56]         295,168\n",
            "             ReLU-13          [-1, 256, 56, 56]               0\n",
            "           Conv2d-14          [-1, 256, 56, 56]         590,080\n",
            "             ReLU-15          [-1, 256, 56, 56]               0\n",
            "        MaxPool2d-16          [-1, 256, 28, 28]               0\n",
            "           Conv2d-17          [-1, 512, 28, 28]       1,180,160\n",
            "             ReLU-18          [-1, 512, 28, 28]               0\n",
            "           Conv2d-19          [-1, 512, 28, 28]       2,359,808\n",
            "             ReLU-20          [-1, 512, 28, 28]               0\n",
            "           Conv2d-21          [-1, 512, 28, 28]       2,359,808\n",
            "             ReLU-22          [-1, 512, 28, 28]               0\n",
            "        MaxPool2d-23          [-1, 512, 14, 14]               0\n",
            "           Conv2d-24          [-1, 512, 14, 14]       2,359,808\n",
            "             ReLU-25          [-1, 512, 14, 14]               0\n",
            "           Conv2d-26          [-1, 512, 14, 14]       2,359,808\n",
            "             ReLU-27          [-1, 512, 14, 14]               0\n",
            "           Conv2d-28          [-1, 512, 14, 14]       2,359,808\n",
            "             ReLU-29          [-1, 512, 14, 14]               0\n",
            "        MaxPool2d-30            [-1, 512, 7, 7]               0\n",
            "           Lambda-31                [-1, 25088]               0\n",
            "           Linear-32                 [-1, 4096]     102,764,544\n",
            "             ReLU-33                 [-1, 4096]               0\n",
            "          Dropout-34                 [-1, 4096]               0\n",
            "           Linear-35                 [-1, 4096]      16,781,312\n",
            "             ReLU-36                 [-1, 4096]               0\n",
            "          Dropout-37                 [-1, 4096]               0\n",
            "           Linear-38                    [-1, 8]          32,776\n",
            "          Sigmoid-39                    [-1, 8]               0\n",
            "================================================================\n",
            "Total params: 133,703,240\n",
            "Trainable params: 133,703,240\n",
            "Non-trainable params: 0\n",
            "----------------------------------------------------------------\n",
            "Input size (MB): 0.57\n",
            "Forward/backward pass size (MB): 207.67\n",
            "Params size (MB): 510.04\n",
            "Estimated Total Size (MB): 718.28\n",
            "----------------------------------------------------------------\n"
          ],
          "name": "stdout"
        }
      ]
    },
    {
      "cell_type": "code",
      "metadata": {
        "id": "s0Pdxz-fGul3"
      },
      "source": [
        "def accuracy(output,target):\n",
        "  return (torch.argmax(output,dim=1)== target).float().mean()"
      ],
      "execution_count": null,
      "outputs": []
    },
    {
      "cell_type": "code",
      "metadata": {
        "id": "270PAuz8IiPG"
      },
      "source": [
        "def train(model, iterator, optimizer, criterion, device):\n",
        "    \n",
        "    epoch_loss = 0\n",
        "    epoch_acc = 0\n",
        "    \n",
        "    model.train()\n",
        "    \n",
        "    for (x, y) in iterator:\n",
        "        \n",
        "        x = x.to(device)\n",
        "        y = y.to(device)\n",
        "        \n",
        "        optimizer.zero_grad()\n",
        "                \n",
        "        y_pred, _ = model(x)\n",
        "        \n",
        "        loss = criterion(y_pred, y)\n",
        "        \n",
        "        acc = accuracy(y_pred, y)\n",
        "        \n",
        "        loss.backward()\n",
        "        \n",
        "        optimizer.step()\n",
        "        \n",
        "        epoch_loss += loss.item()\n",
        "        epoch_acc += acc.item()\n",
        "        \n",
        "    return epoch_loss / len(iterator), epoch_acc / len(iterator)"
      ],
      "execution_count": null,
      "outputs": []
    },
    {
      "cell_type": "code",
      "metadata": {
        "id": "FUnc0cq2Iqwi"
      },
      "source": [
        "def evaluate(model, iterator, criterion, device):\n",
        "    \n",
        "    epoch_loss = 0\n",
        "    epoch_acc = 0\n",
        "    \n",
        "    model.eval()\n",
        "    \n",
        "    with torch.no_grad():\n",
        "        \n",
        "        for (x, y) in iterator:\n",
        "\n",
        "            x = x.to(device)\n",
        "            y = y.to(device)\n",
        "\n",
        "            y_pred, _ = model(x)\n",
        "\n",
        "            loss = criterion(y_pred, y)\n",
        "\n",
        "            acc = accuracy(y_pred, y)\n",
        "\n",
        "            epoch_loss += loss.item()\n",
        "            epoch_acc += acc.item()\n",
        "        \n",
        "    return epoch_loss / len(iterator), epoch_acc / len(iterator)"
      ],
      "execution_count": null,
      "outputs": []
    },
    {
      "cell_type": "code",
      "metadata": {
        "id": "W_41O8yKIysj"
      },
      "source": [
        "def epoch_time(start_time, end_time):\n",
        "    elapsed_time = end_time - start_time\n",
        "    elapsed_mins = int(elapsed_time / 60)\n",
        "    elapsed_secs = int(elapsed_time - (elapsed_mins * 60))\n",
        "    return elapsed_mins, elapsed_secs"
      ],
      "execution_count": null,
      "outputs": []
    },
    {
      "cell_type": "code",
      "metadata": {
        "colab": {
          "base_uri": "https://localhost:8080/"
        },
        "id": "lZSFWjLTI2vT",
        "outputId": "d25f7881-305c-4f66-9f28-d4a52d23d67f"
      },
      "source": [
        "EPOCHS = 25\n",
        "import time\n",
        "best_valid_loss = float('inf')\n",
        "\n",
        "for epoch in range(EPOCHS):\n",
        "    \n",
        "    start_time = time.monotonic()\n",
        "    \n",
        "    train_loss, train_acc = train(model, dataloader_train, optimizer, criterion, device)\n",
        "    valid_loss, valid_acc = evaluate(model, dataloader_valid, criterion, device)\n",
        "        \n",
        "    if valid_loss < best_valid_loss:\n",
        "        best_valid_loss = valid_loss\n",
        "        torch.save(model.state_dict(), '/content/tut3-model.pt')\n",
        "\n",
        "    end_time = time.monotonic()\n",
        "\n",
        "    epoch_mins, epoch_secs = epoch_time(start_time, end_time)\n",
        "    \n",
        "    print(f'Epoch: {epoch+1:02} | Epoch Time: {epoch_mins}m {epoch_secs}s')\n",
        "    print(f'\\tTrain Loss: {train_loss:.3f} | Train Acc: {train_acc*100:.2f}%')\n",
        "    print(f'\\t Val. Loss: {valid_loss:.3f} |  Val. Acc: {valid_acc*100:.2f}%')"
      ],
      "execution_count": null,
      "outputs": [
        {
          "output_type": "stream",
          "text": [
            "Epoch: 01 | Epoch Time: 0m 56s\n",
            "\tTrain Loss: 2.107 | Train Acc: 12.56%\n",
            "\t Val. Loss: 2.084 |  Val. Acc: 11.46%\n",
            "Epoch: 02 | Epoch Time: 0m 56s\n",
            "\tTrain Loss: 2.104 | Train Acc: 12.90%\n",
            "\t Val. Loss: 2.079 |  Val. Acc: 14.08%\n",
            "Epoch: 03 | Epoch Time: 0m 55s\n",
            "\tTrain Loss: 2.107 | Train Acc: 12.35%\n",
            "\t Val. Loss: 2.082 |  Val. Acc: 11.70%\n",
            "Epoch: 04 | Epoch Time: 0m 56s\n",
            "\tTrain Loss: 2.077 | Train Acc: 12.78%\n",
            "\t Val. Loss: 2.058 |  Val. Acc: 16.93%\n",
            "Epoch: 05 | Epoch Time: 0m 58s\n",
            "\tTrain Loss: 2.061 | Train Acc: 16.03%\n",
            "\t Val. Loss: 1.992 |  Val. Acc: 21.92%\n",
            "Epoch: 06 | Epoch Time: 0m 56s\n",
            "\tTrain Loss: 1.891 | Train Acc: 27.52%\n",
            "\t Val. Loss: 1.759 |  Val. Acc: 37.52%\n",
            "Epoch: 07 | Epoch Time: 0m 56s\n",
            "\tTrain Loss: 1.616 | Train Acc: 39.44%\n",
            "\t Val. Loss: 1.501 |  Val. Acc: 46.46%\n",
            "Epoch: 08 | Epoch Time: 0m 56s\n",
            "\tTrain Loss: 1.343 | Train Acc: 47.00%\n",
            "\t Val. Loss: 1.266 |  Val. Acc: 50.41%\n",
            "Epoch: 09 | Epoch Time: 0m 56s\n",
            "\tTrain Loss: 1.184 | Train Acc: 52.26%\n",
            "\t Val. Loss: 1.176 |  Val. Acc: 55.62%\n",
            "Epoch: 10 | Epoch Time: 0m 56s\n",
            "\tTrain Loss: 1.072 | Train Acc: 56.80%\n",
            "\t Val. Loss: 0.980 |  Val. Acc: 59.83%\n",
            "Epoch: 11 | Epoch Time: 0m 55s\n",
            "\tTrain Loss: 0.974 | Train Acc: 59.69%\n",
            "\t Val. Loss: 0.986 |  Val. Acc: 60.37%\n",
            "Epoch: 12 | Epoch Time: 0m 56s\n",
            "\tTrain Loss: 0.881 | Train Acc: 62.24%\n",
            "\t Val. Loss: 0.934 |  Val. Acc: 64.65%\n",
            "Epoch: 13 | Epoch Time: 0m 58s\n",
            "\tTrain Loss: 0.795 | Train Acc: 66.01%\n",
            "\t Val. Loss: 0.846 |  Val. Acc: 68.06%\n",
            "Epoch: 14 | Epoch Time: 0m 56s\n",
            "\tTrain Loss: 0.747 | Train Acc: 68.33%\n",
            "\t Val. Loss: 0.776 |  Val. Acc: 68.42%\n",
            "Epoch: 15 | Epoch Time: 0m 55s\n",
            "\tTrain Loss: 0.678 | Train Acc: 70.40%\n",
            "\t Val. Loss: 0.792 |  Val. Acc: 69.16%\n",
            "Epoch: 16 | Epoch Time: 0m 56s\n",
            "\tTrain Loss: 0.645 | Train Acc: 71.64%\n",
            "\t Val. Loss: 0.762 |  Val. Acc: 69.36%\n",
            "Epoch: 17 | Epoch Time: 0m 56s\n",
            "\tTrain Loss: 0.605 | Train Acc: 73.46%\n",
            "\t Val. Loss: 0.623 |  Val. Acc: 74.54%\n",
            "Epoch: 18 | Epoch Time: 0m 55s\n",
            "\tTrain Loss: 0.526 | Train Acc: 77.25%\n",
            "\t Val. Loss: 0.641 |  Val. Acc: 73.96%\n",
            "Epoch: 19 | Epoch Time: 0m 55s\n",
            "\tTrain Loss: 0.504 | Train Acc: 77.85%\n",
            "\t Val. Loss: 0.695 |  Val. Acc: 76.06%\n",
            "Epoch: 20 | Epoch Time: 0m 56s\n",
            "\tTrain Loss: 0.448 | Train Acc: 80.52%\n",
            "\t Val. Loss: 0.545 |  Val. Acc: 74.48%\n",
            "Epoch: 21 | Epoch Time: 0m 55s\n",
            "\tTrain Loss: 0.422 | Train Acc: 81.14%\n",
            "\t Val. Loss: 0.573 |  Val. Acc: 77.41%\n",
            "Epoch: 22 | Epoch Time: 0m 55s\n",
            "\tTrain Loss: 0.413 | Train Acc: 81.39%\n",
            "\t Val. Loss: 0.579 |  Val. Acc: 77.76%\n",
            "Epoch: 23 | Epoch Time: 0m 55s\n",
            "\tTrain Loss: 0.369 | Train Acc: 83.59%\n",
            "\t Val. Loss: 0.590 |  Val. Acc: 81.12%\n",
            "Epoch: 24 | Epoch Time: 0m 55s\n",
            "\tTrain Loss: 0.329 | Train Acc: 85.24%\n",
            "\t Val. Loss: 0.646 |  Val. Acc: 79.21%\n",
            "Epoch: 25 | Epoch Time: 0m 55s\n",
            "\tTrain Loss: 0.327 | Train Acc: 86.01%\n",
            "\t Val. Loss: 0.639 |  Val. Acc: 78.12%\n"
          ],
          "name": "stdout"
        }
      ]
    },
    {
      "cell_type": "code",
      "metadata": {
        "colab": {
          "base_uri": "https://localhost:8080/"
        },
        "id": "Xk-Y3FhVQKNj",
        "outputId": "c2602fa7-786d-4a41-ceda-bd05076fd589"
      },
      "source": [
        "model.load_state_dict(torch.load('/content/tut3-model.pt'))\n",
        "\n",
        "test_loss, test_acc = evaluate(model, dataloader_test, criterion, device)\n",
        "\n",
        "print(f'Test Loss: {test_loss:.3f} | Test Acc: {test_acc*100:.2f}%')"
      ],
      "execution_count": null,
      "outputs": [
        {
          "output_type": "stream",
          "text": [
            "Test Loss: 2.788 | Test Acc: 44.09%\n"
          ],
          "name": "stdout"
        }
      ]
    },
    {
      "cell_type": "code",
      "metadata": {
        "id": "ZyPB_z7GQ9Ds"
      },
      "source": [
        "def get_predictions(model, iterator, device):\n",
        "\n",
        "    model.eval()\n",
        "\n",
        "    images = []\n",
        "    labels = []\n",
        "    probs = []\n",
        "\n",
        "    with torch.no_grad():\n",
        "\n",
        "        for (x, y) in iterator:\n",
        "\n",
        "            x = x.to(device)\n",
        "\n",
        "            y_pred, _ = model(x)\n",
        "\n",
        "            y_prob = F.softmax(y_pred, dim = -1)\n",
        "            top_pred = y_prob.argmax(1, keepdim = True)\n",
        "\n",
        "            images.append(x.cpu())\n",
        "            labels.append(y.cpu())\n",
        "            probs.append(y_prob.cpu())\n",
        "\n",
        "    images = torch.cat(images, dim = 0)\n",
        "    labels = torch.cat(labels, dim = 0)\n",
        "    probs = torch.cat(probs, dim = 0)\n",
        "\n",
        "    return images, labels, probs"
      ],
      "execution_count": null,
      "outputs": []
    },
    {
      "cell_type": "code",
      "metadata": {
        "id": "tgbK_hHeRA8J"
      },
      "source": [
        "images, labels, probs = get_predictions(model, dataloader_test, device)"
      ],
      "execution_count": null,
      "outputs": []
    },
    {
      "cell_type": "code",
      "metadata": {
        "id": "A7tsrtu8RZYB"
      },
      "source": [
        "pred_labels = torch.argmax(probs, 1)\n",
        "def plot_confusion_matrix(labels, pred_labels, classes):\n",
        "    \n",
        "    fig = plt.figure(figsize = (10, 10));\n",
        "    ax = fig.add_subplot(1, 1, 1);\n",
        "    cm = confusion_matrix(labels, pred_labels);\n",
        "    cm = ConfusionMatrixDisplay(cm, display_labels = classes);\n",
        "    cm.plot(values_format = 'd', cmap = 'Blues', ax = ax)\n",
        "    plt.xticks(rotation = 20)"
      ],
      "execution_count": null,
      "outputs": []
    },
    {
      "cell_type": "code",
      "metadata": {
        "id": "CF0uibunRkcn"
      },
      "source": [
        ""
      ],
      "execution_count": null,
      "outputs": []
    },
    {
      "cell_type": "code",
      "metadata": {
        "id": "nkGw8vvPLDmB"
      },
      "source": [
        "torch.cuda.empty_cache()"
      ],
      "execution_count": null,
      "outputs": []
    },
    {
      "cell_type": "code",
      "metadata": {
        "id": "XyHsIHqVzAaK",
        "colab": {
          "base_uri": "https://localhost:8080/"
        },
        "outputId": "89b4adee-99e6-4a48-cf0d-cf1f7032aa25"
      },
      "source": [
        "!nvidia-smi"
      ],
      "execution_count": null,
      "outputs": [
        {
          "output_type": "stream",
          "text": [
            "Mon May 24 10:41:41 2021       \n",
            "+-----------------------------------------------------------------------------+\n",
            "| NVIDIA-SMI 465.19.01    Driver Version: 460.32.03    CUDA Version: 11.2     |\n",
            "|-------------------------------+----------------------+----------------------+\n",
            "| GPU  Name        Persistence-M| Bus-Id        Disp.A | Volatile Uncorr. ECC |\n",
            "| Fan  Temp  Perf  Pwr:Usage/Cap|         Memory-Usage | GPU-Util  Compute M. |\n",
            "|                               |                      |               MIG M. |\n",
            "|===============================+======================+======================|\n",
            "|   0  Tesla P100-PCIE...  Off  | 00000000:00:04.0 Off |                    0 |\n",
            "| N/A   45C    P0    34W / 250W |  15951MiB / 16280MiB |      0%      Default |\n",
            "|                               |                      |                  N/A |\n",
            "+-------------------------------+----------------------+----------------------+\n",
            "                                                                               \n",
            "+-----------------------------------------------------------------------------+\n",
            "| Processes:                                                                  |\n",
            "|  GPU   GI   CI        PID   Type   Process name                  GPU Memory |\n",
            "|        ID   ID                                                   Usage      |\n",
            "|=============================================================================|\n",
            "+-----------------------------------------------------------------------------+\n"
          ],
          "name": "stdout"
        }
      ]
    },
    {
      "cell_type": "code",
      "metadata": {
        "id": "c9-vpSfpVWVh"
      },
      "source": [
        ""
      ],
      "execution_count": null,
      "outputs": []
    }
  ]
}